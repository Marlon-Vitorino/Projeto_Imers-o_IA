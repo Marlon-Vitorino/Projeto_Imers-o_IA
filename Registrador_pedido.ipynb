{
  "nbformat": 4,
  "nbformat_minor": 0,
  "metadata": {
    "colab": {
      "provenance": [],
      "authorship_tag": "ABX9TyPPrK+A+3T+zlEUdY1GA2tY",
      "include_colab_link": true
    },
    "kernelspec": {
      "name": "python3",
      "display_name": "Python 3"
    },
    "language_info": {
      "name": "python"
    }
  },
  "cells": [
    {
      "cell_type": "markdown",
      "metadata": {
        "id": "view-in-github",
        "colab_type": "text"
      },
      "source": [
        "<a href=\"https://colab.research.google.com/github/Marlon-Vitorino/Projeto_Imersao_IA/blob/main/Registrador_pedido.ipynb\" target=\"_parent\"><img src=\"https://colab.research.google.com/assets/colab-badge.svg\" alt=\"Open In Colab\"/></a>"
      ]
    },
    {
      "cell_type": "code",
      "execution_count": 14,
      "metadata": {
        "id": "ITTiWYRm5kIJ"
      },
      "outputs": [],
      "source": [
        "!pip install -q -U google-generativeai"
      ]
    },
    {
      "cell_type": "markdown",
      "source": [
        "Importações e configurações iniciais"
      ],
      "metadata": {
        "id": "dJC2jThAJN9l"
      }
    },
    {
      "cell_type": "code",
      "source": [
        "import re\n",
        "import google.generativeai as genai\n",
        "from google.colab import userdata\n",
        "api_key = userdata.get('SECRET_KEY')\n",
        "genai.configure(api_key=api_key)"
      ],
      "metadata": {
        "id": "uTafjCa66IeM"
      },
      "execution_count": 16,
      "outputs": []
    },
    {
      "cell_type": "markdown",
      "source": [
        "Parametros"
      ],
      "metadata": {
        "id": "djwZqMfXJb3B"
      }
    },
    {
      "cell_type": "code",
      "source": [
        "generation_config = {\n",
        "    \"candidate_count\": 1,\n",
        "    \"temperature\": 0.5,\n",
        "}"
      ],
      "metadata": {
        "id": "Eg7v3tSvEf49"
      },
      "execution_count": 17,
      "outputs": []
    },
    {
      "cell_type": "code",
      "source": [
        "safety_settings = {\n",
        "    \"HARASSMENT\": \"BLOCK_MEDIUM_AND_ABOVE\",\n",
        "    \"HATE\": \"BLOCK_MEDIUM_AND_ABOVE\",\n",
        "    \"SEXUAL\": \"BLOCK_MEDIUM_AND_ABOVE\",\n",
        "    \"DANGEROUS\": \"BLOCK_MEDIUM_AND_ABOVE\",\n",
        "}"
      ],
      "metadata": {
        "id": "L7SeSeyiFVdW"
      },
      "execution_count": 18,
      "outputs": []
    },
    {
      "cell_type": "markdown",
      "source": [
        "Inicializando o modelo"
      ],
      "metadata": {
        "id": "b66D6AExJffR"
      }
    },
    {
      "cell_type": "code",
      "source": [
        "model = genai.GenerativeModel(model_name=\"gemini-1.0-pro\",\n",
        "                              generation_config=generation_config,\n",
        "                              safety_settings=safety_settings)"
      ],
      "metadata": {
        "id": "tH0_czxGGsUE"
      },
      "execution_count": 19,
      "outputs": []
    },
    {
      "cell_type": "code",
      "source": [
        "model_2 = \"models/embedding-001\""
      ],
      "metadata": {
        "id": "01RD7kiMh3GS"
      },
      "execution_count": 20,
      "outputs": []
    },
    {
      "cell_type": "markdown",
      "source": [
        "Função para extrair o nome do cliente da mensagem"
      ],
      "metadata": {
        "id": "u3ioHgdoJoYV"
      }
    },
    {
      "cell_type": "code",
      "source": [
        "def extrair_nome(mensagem):\n",
        "  match = re.search(r\"nome\\s+(.+)\", mensagem)\n",
        "  if match:\n",
        "    return match.group(1).strip()\n",
        "  return None"
      ],
      "metadata": {
        "id": "Jr0cDHBUXZ9X"
      },
      "execution_count": 21,
      "outputs": []
    },
    {
      "cell_type": "markdown",
      "source": [
        "Função para extrair a categoria do produto da mensagem"
      ],
      "metadata": {
        "id": "4-F9Cx19JtG2"
      }
    },
    {
      "cell_type": "code",
      "source": [
        "def extrair_categoria(mensagem):\n",
        "  categorias = {\n",
        "      \"caneca\": [\"caneca\"],\n",
        "      \"azulejo\": [\"azulejo\"],\n",
        "      \"camiseta\": [\"camiseta\"]\n",
        "  }\n",
        "  for categoria, palavras_chave in categorias.items():\n",
        "    for palavra in palavras_chave:\n",
        "      if palavra in mensagem.lower():\n",
        "        return categoria\n",
        "  return None"
      ],
      "metadata": {
        "id": "g3Gn9PP7kRI0"
      },
      "execution_count": 22,
      "outputs": []
    },
    {
      "cell_type": "markdown",
      "source": [
        "Função para extrair o tipo do produto da mensagem"
      ],
      "metadata": {
        "id": "elMxy_P_Jxe9"
      }
    },
    {
      "cell_type": "code",
      "source": [
        "def extrair_tipo(mensagem, categoria):\n",
        "  tipos = {\n",
        "      \"caneca\": [\"branca\", \"colorida\", \"magica\"],\n",
        "      \"azulejo\": [\"10x10\", \"15x15\", \"20x20\", \"20x30\"],\n",
        "      \"camiseta\": [\"branca\", \"cinza mescla\", \"preta\"]\n",
        "  }\n",
        "  if categoria in tipos:\n",
        "    for tipo in tipos[categoria]:\n",
        "      if tipo in mensagem.lower():\n",
        "        return tipo\n",
        "  return None"
      ],
      "metadata": {
        "id": "0WHO3FiS5WXj"
      },
      "execution_count": 23,
      "outputs": []
    },
    {
      "cell_type": "markdown",
      "source": [
        "Função para listar os pedidos"
      ],
      "metadata": {
        "id": "2et2o0HGJ2BS"
      }
    },
    {
      "cell_type": "code",
      "source": [
        "def listar_pedidos(pedidos):\n",
        "  print(\"\\n## Lista de Pedidos:\")\n",
        "  if not pedidos:\n",
        "    print(\"Nenhum pedido cadastrado.\")\n",
        "  else:\n",
        "    for i, pedido in enumerate(pedidos):\n",
        "      print(f\"\\nPedido {i+1}:\")\n",
        "      for chave, valor in pedido.items():\n",
        "        print(f\"{chave}: {valor}\")"
      ],
      "metadata": {
        "id": "xnzJBsvG_-mR"
      },
      "execution_count": 24,
      "outputs": []
    },
    {
      "cell_type": "markdown",
      "source": [
        "Base de dados para armazenar os pedidos"
      ],
      "metadata": {
        "id": "WbYFPGI1J7Re"
      }
    },
    {
      "cell_type": "code",
      "source": [
        "pedidos = []"
      ],
      "metadata": {
        "id": "N_MPMawg5dxl"
      },
      "execution_count": 25,
      "outputs": []
    },
    {
      "cell_type": "markdown",
      "source": [
        "Loop principal para receber e processar os pedidos"
      ],
      "metadata": {
        "id": "TRpCGEoXKAIQ"
      }
    },
    {
      "cell_type": "code",
      "source": [
        "while True:\n",
        "  mensagem_cliente = input(\"Cole a mensagem do cliente (ou digite 'sair' para encerrar): \")\n",
        "\n",
        "  if mensagem_cliente.lower() == \"sair\":\n",
        "    break\n",
        "\n",
        "  if mensagem_cliente.lower() == \"listar pedidos\":\n",
        "    listar_pedidos(pedidos)\n",
        "    continue\n",
        "\n",
        "  nome_cliente = extrair_nome(mensagem_cliente)\n",
        "  categoria = extrair_categoria(mensagem_cliente)\n",
        "  tipo = extrair_tipo(mensagem_cliente, categoria)\n",
        "\n",
        "  # Criar um dicionário com as informações do pedido\n",
        "  pedido = {\n",
        "      \"Nome do Cliente\": nome_cliente,\n",
        "      \"Categoria\": categoria,\n",
        "      \"Tipo\": tipo,\n",
        "      \"Observações\": mensagem_cliente\n",
        "  }\n",
        "\n",
        "  # Adicionar o pedido à base de dados\n",
        "  pedidos.append(pedido)\n",
        "\n",
        "  # Imprimir o pedido cadastrado\n",
        "  print(\"\\n## Pedido Cadastrado\")\n",
        "  for chave, valor in pedido.items():\n",
        "    print(f\"{chave}: {valor}\")\n",
        "  print(\"\\n\")"
      ],
      "metadata": {
        "colab": {
          "base_uri": "https://localhost:8080/"
        },
        "id": "5OXZg0xp5j0Q",
        "outputId": "79ef9ce4-7588-4615-c18b-c4423e3890fa"
      },
      "execution_count": 26,
      "outputs": [
        {
          "name": "stdout",
          "output_type": "stream",
          "text": [
            "Cole a mensagem do cliente (ou digite 'sair' para encerrar): quero uma caneca colorida escrita meu nome Izaura\n",
            "\n",
            "## Pedido Cadastrado\n",
            "Nome do Cliente: Izaura\n",
            "Categoria: caneca\n",
            "Tipo: colorida\n",
            "Observações: quero uma caneca colorida escrita meu nome Izaura\n",
            "\n",
            "\n",
            "Cole a mensagem do cliente (ou digite 'sair' para encerrar): sair\n"
          ]
        }
      ]
    }
  ]
}